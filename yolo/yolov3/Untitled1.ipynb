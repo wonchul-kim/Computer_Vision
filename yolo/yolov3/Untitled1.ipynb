{
 "cells": [
  {
   "cell_type": "code",
   "execution_count": 2,
   "id": "a20ac7ad",
   "metadata": {},
   "outputs": [],
   "source": [
    "import torch.nn as nn\n",
    "from PIL import Image\n",
    "import cv2\n",
    "import torch\n",
    "import torch.nn.functional as F\n",
    "import numpy as np"
   ]
  },
  {
   "cell_type": "code",
   "execution_count": 3,
   "id": "ca33370f",
   "metadata": {},
   "outputs": [],
   "source": [
    "grid = np.arange(32)"
   ]
  },
  {
   "cell_type": "code",
   "execution_count": 4,
   "id": "e1fd2f1f",
   "metadata": {},
   "outputs": [
    {
     "data": {
      "text/plain": [
       "(32, 32)"
      ]
     },
     "execution_count": 4,
     "metadata": {},
     "output_type": "execute_result"
    }
   ],
   "source": [
    "a, b = np.meshgrid(grid, grid)\n",
    "a.shape"
   ]
  },
  {
   "cell_type": "code",
   "execution_count": 5,
   "id": "3d67d7be",
   "metadata": {},
   "outputs": [],
   "source": [
    "x_offset = torch.FloatTensor(a).view(-1, 1)\n",
    "y_offset = torch.FloatTensor(b).view(-1, 1)"
   ]
  },
  {
   "cell_type": "code",
   "execution_count": 6,
   "id": "6caeef2f",
   "metadata": {},
   "outputs": [
    {
     "data": {
      "text/plain": [
       "(tensor([[ 0.],\n",
       "         [ 1.],\n",
       "         [ 2.],\n",
       "         ...,\n",
       "         [29.],\n",
       "         [30.],\n",
       "         [31.]]),\n",
       " torch.Size([1024, 1]))"
      ]
     },
     "execution_count": 6,
     "metadata": {},
     "output_type": "execute_result"
    }
   ],
   "source": [
    "x_offset, x_offset.size()"
   ]
  },
  {
   "cell_type": "code",
   "execution_count": 7,
   "id": "db3f5d01",
   "metadata": {},
   "outputs": [
    {
     "data": {
      "text/plain": [
       "tensor([[ 0.],\n",
       "        [ 0.],\n",
       "        [ 0.],\n",
       "        ...,\n",
       "        [31.],\n",
       "        [31.],\n",
       "        [31.]])"
      ]
     },
     "execution_count": 7,
     "metadata": {},
     "output_type": "execute_result"
    }
   ],
   "source": [
    "y_offset"
   ]
  },
  {
   "cell_type": "code",
   "execution_count": 8,
   "id": "26dbe21b",
   "metadata": {},
   "outputs": [
    {
     "data": {
      "text/plain": [
       "array([[ 0,  0,  0, ...,  0,  0,  0],\n",
       "       [ 1,  1,  1, ...,  1,  1,  1],\n",
       "       [ 2,  2,  2, ...,  2,  2,  2],\n",
       "       ...,\n",
       "       [29, 29, 29, ..., 29, 29, 29],\n",
       "       [30, 30, 30, ..., 30, 30, 30],\n",
       "       [31, 31, 31, ..., 31, 31, 31]])"
      ]
     },
     "execution_count": 8,
     "metadata": {},
     "output_type": "execute_result"
    }
   ],
   "source": [
    "b"
   ]
  },
  {
   "cell_type": "code",
   "execution_count": 9,
   "id": "006fcaea",
   "metadata": {},
   "outputs": [
    {
     "data": {
      "text/plain": [
       "array([[ 0,  1,  2, ..., 29, 30, 31],\n",
       "       [ 0,  1,  2, ..., 29, 30, 31],\n",
       "       [ 0,  1,  2, ..., 29, 30, 31],\n",
       "       ...,\n",
       "       [ 0,  1,  2, ..., 29, 30, 31],\n",
       "       [ 0,  1,  2, ..., 29, 30, 31],\n",
       "       [ 0,  1,  2, ..., 29, 30, 31]])"
      ]
     },
     "execution_count": 9,
     "metadata": {},
     "output_type": "execute_result"
    }
   ],
   "source": [
    "a"
   ]
  },
  {
   "cell_type": "code",
   "execution_count": 10,
   "id": "8eb50606",
   "metadata": {},
   "outputs": [
    {
     "data": {
      "text/plain": [
       "tensor([[ 0.,  0.],\n",
       "        [ 1.,  0.],\n",
       "        [ 2.,  0.],\n",
       "        ...,\n",
       "        [29., 31.],\n",
       "        [30., 31.],\n",
       "        [31., 31.]])"
      ]
     },
     "execution_count": 10,
     "metadata": {},
     "output_type": "execute_result"
    }
   ],
   "source": [
    "c = torch.cat((x_offset, y_offset), 1)\n",
    "c"
   ]
  },
  {
   "cell_type": "code",
   "execution_count": 11,
   "id": "b0530455",
   "metadata": {},
   "outputs": [],
   "source": [
    "d = c.repeat(1, 3)"
   ]
  },
  {
   "cell_type": "code",
   "execution_count": 12,
   "id": "ed70f6b9",
   "metadata": {},
   "outputs": [
    {
     "data": {
      "text/plain": [
       "(tensor([[ 0.,  0.,  0.,  0.,  0.,  0.],\n",
       "         [ 1.,  0.,  1.,  0.,  1.,  0.],\n",
       "         [ 2.,  0.,  2.,  0.,  2.,  0.],\n",
       "         ...,\n",
       "         [29., 31., 29., 31., 29., 31.],\n",
       "         [30., 31., 30., 31., 30., 31.],\n",
       "         [31., 31., 31., 31., 31., 31.]]),\n",
       " torch.Size([1024, 6]))"
      ]
     },
     "execution_count": 12,
     "metadata": {},
     "output_type": "execute_result"
    }
   ],
   "source": [
    "d, d.size()"
   ]
  },
  {
   "cell_type": "code",
   "execution_count": 13,
   "id": "6499546b",
   "metadata": {},
   "outputs": [],
   "source": [
    "e = d.view(-1, 2)"
   ]
  },
  {
   "cell_type": "code",
   "execution_count": 14,
   "id": "ff23e166",
   "metadata": {},
   "outputs": [
    {
     "data": {
      "text/plain": [
       "torch.Size([3072, 2])"
      ]
     },
     "execution_count": 14,
     "metadata": {},
     "output_type": "execute_result"
    }
   ],
   "source": [
    "e.size()"
   ]
  },
  {
   "cell_type": "code",
   "execution_count": 15,
   "id": "f005880c",
   "metadata": {},
   "outputs": [
    {
     "data": {
      "text/plain": [
       "tensor([[ 0.,  0.],\n",
       "        [ 0.,  0.],\n",
       "        [ 0.,  0.],\n",
       "        ...,\n",
       "        [31., 31.],\n",
       "        [31., 31.],\n",
       "        [31., 31.]])"
      ]
     },
     "execution_count": 15,
     "metadata": {},
     "output_type": "execute_result"
    }
   ],
   "source": [
    "e"
   ]
  },
  {
   "cell_type": "code",
   "execution_count": 16,
   "id": "835efe22",
   "metadata": {},
   "outputs": [
    {
     "data": {
      "text/plain": [
       "tensor([[0., 0.],\n",
       "        [0., 0.],\n",
       "        [0., 0.],\n",
       "        [1., 0.],\n",
       "        [1., 0.],\n",
       "        [1., 0.],\n",
       "        [2., 0.],\n",
       "        [2., 0.],\n",
       "        [2., 0.],\n",
       "        [3., 0.]])"
      ]
     },
     "execution_count": 16,
     "metadata": {},
     "output_type": "execute_result"
    }
   ],
   "source": [
    "e[0:10]"
   ]
  },
  {
   "cell_type": "code",
   "execution_count": 17,
   "id": "747b2060",
   "metadata": {},
   "outputs": [],
   "source": [
    "f = e.unsqueeze(0)"
   ]
  },
  {
   "cell_type": "code",
   "execution_count": 18,
   "id": "d54c3ad1",
   "metadata": {},
   "outputs": [
    {
     "data": {
      "text/plain": [
       "torch.Size([1, 3072, 2])"
      ]
     },
     "execution_count": 18,
     "metadata": {},
     "output_type": "execute_result"
    }
   ],
   "source": [
    "f.size()"
   ]
  },
  {
   "cell_type": "code",
   "execution_count": 19,
   "id": "3fd5c45c",
   "metadata": {},
   "outputs": [],
   "source": [
    "anchors = [[10,13],  [16,30],  [33,23]]\n",
    "anchors_ = [(a[0]/32, a[1]/32) for a in anchors]\n",
    "anchors__ = torch.FloatTensor(anchors_).repeat(32*32, 1)"
   ]
  },
  {
   "cell_type": "code",
   "execution_count": 20,
   "id": "df77a78b",
   "metadata": {},
   "outputs": [
    {
     "data": {
      "text/plain": [
       "(tensor([[0.3125, 0.4062],\n",
       "         [0.5000, 0.9375],\n",
       "         [1.0312, 0.7188],\n",
       "         ...,\n",
       "         [0.3125, 0.4062],\n",
       "         [0.5000, 0.9375],\n",
       "         [1.0312, 0.7188]]),\n",
       " torch.Size([3072, 2]))"
      ]
     },
     "execution_count": 20,
     "metadata": {},
     "output_type": "execute_result"
    }
   ],
   "source": [
    "anchors__, anchors__.size()"
   ]
  },
  {
   "cell_type": "code",
   "execution_count": 21,
   "id": "177f1f45",
   "metadata": {},
   "outputs": [],
   "source": [
    "a = [[1, 2], [3, 4]]"
   ]
  },
  {
   "cell_type": "code",
   "execution_count": 22,
   "id": "500ddc06",
   "metadata": {},
   "outputs": [],
   "source": [
    "a *= 2"
   ]
  },
  {
   "cell_type": "code",
   "execution_count": 23,
   "id": "1463819d",
   "metadata": {},
   "outputs": [
    {
     "data": {
      "text/plain": [
       "[[1, 2], [3, 4], [1, 2], [3, 4]]"
      ]
     },
     "execution_count": 23,
     "metadata": {},
     "output_type": "execute_result"
    }
   ],
   "source": [
    "a"
   ]
  },
  {
   "cell_type": "code",
   "execution_count": 32,
   "id": "99186ccc",
   "metadata": {},
   "outputs": [],
   "source": [
    "img = Image.open('./imgs/bus.jpg')"
   ]
  },
  {
   "cell_type": "code",
   "execution_count": 35,
   "id": "c6f9e907",
   "metadata": {},
   "outputs": [],
   "source": [
    "img_ = img.resize((540, 405))"
   ]
  },
  {
   "cell_type": "code",
   "execution_count": 38,
   "id": "498c5915",
   "metadata": {},
   "outputs": [
    {
     "data": {
      "text/plain": [
       "((810, 1080), (540, 405))"
      ]
     },
     "execution_count": 38,
     "metadata": {},
     "output_type": "execute_result"
    }
   ],
   "source": [
    "img.size, img_.size"
   ]
  },
  {
   "cell_type": "code",
   "execution_count": 39,
   "id": "bc027967",
   "metadata": {
    "scrolled": true
   },
   "outputs": [],
   "source": [
    "img.show()"
   ]
  },
  {
   "cell_type": "code",
   "execution_count": 40,
   "id": "4dc36b27",
   "metadata": {},
   "outputs": [],
   "source": [
    "img_.show()"
   ]
  },
  {
   "cell_type": "code",
   "execution_count": 28,
   "id": "c441ec2e",
   "metadata": {},
   "outputs": [
    {
     "data": {
      "text/plain": [
       "-1"
      ]
     },
     "execution_count": 28,
     "metadata": {},
     "output_type": "execute_result"
    }
   ],
   "source": [
    "cv2.imshow('', img_)\n",
    "cv2.waitKey(0)"
   ]
  },
  {
   "cell_type": "code",
   "execution_count": null,
   "id": "b39c808b",
   "metadata": {},
   "outputs": [],
   "source": []
  }
 ],
 "metadata": {
  "kernelspec": {
   "display_name": "Python 3",
   "language": "python",
   "name": "python3"
  },
  "language_info": {
   "codemirror_mode": {
    "name": "ipython",
    "version": 3
   },
   "file_extension": ".py",
   "mimetype": "text/x-python",
   "name": "python",
   "nbconvert_exporter": "python",
   "pygments_lexer": "ipython3",
   "version": "3.8.8"
  }
 },
 "nbformat": 4,
 "nbformat_minor": 5
}
