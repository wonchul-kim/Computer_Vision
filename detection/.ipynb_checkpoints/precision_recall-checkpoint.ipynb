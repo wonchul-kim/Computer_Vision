{
 "cells": [
  {
   "cell_type": "markdown",
   "metadata": {},
   "source": [
    "### precision & recall\n",
    "\n",
    "분류기 (Classifier) 의 성능을 평가하는 Metric 에는 Precision/Recall 이 있다.\n",
    "\n",
    "\n",
    "#### 1. Confusion Matrix\n",
    "\n",
    "Confusion Matix 란 Binary Classfier 의 Prediction 결과를 2x2 Matrix 로 나타낸 것이다.\n",
    "Confusion Matix 의 element 를 정하는 규칙은 다음과 같다.\n",
    "\n",
    "* 첫번쨰 Term : Prediction 과 Ground Truth 의 일치여부로 True/False 를 정한다.\n",
    "* 두번째 Term : Prediction 결과에 따라 Positive/Negative 를 정한다.\n",
    "\n",
    "위 규칙에 따르면 총 4가지 경우의 수(첫번째 Term 2개 * 두번쨰 Term 2개)가 나오고 이것으로 아래와 같은 2x2 사이즈의 Confusion Matrix 를 구성할 수 있다.\n",
    "\n",
    "<img src='./imgs/confusion_matrix.png'>\n",
    "\n",
    "그림 출처: 코세라 ML-Classification 수업자료\n",
    "\n",
    "\n",
    "#### 2. Precision / Recall 의 계산 방법과 수식의 해석\n",
    "$$ Prediction == \\frac{TP}{(TP+FP)} == \\frac{TP}{(분류기가 P 로 예측한 것)}$$\n",
    "\n",
    "분모는 (TP+FP) 인데 두번째 Term 이 둘 다 P 이다. 즉, 분모 Term 의 의미는 분류기가 P 라고 예측한 모든 Sample 을 말한다.\n",
    "\n",
    "결국 Precision 은 분류기가 P로 예측한 sample 중에서 맞게 예측한 것의 비율 을 의미한다.\n",
    "\n",
    "영어 위키에는 “Precision is the probability that a retrieved one is relevant.” 라고 정의되어있다.\n",
    "\n",
    "검출된 정보(TP+FP) 중에서 적절한 것들(TP) 의 비율을 Precision 이라고 한다.\n",
    "\n",
    "\n",
    "$$ Recall = \\frac{TP}{(TP+FN)} = \\frac{TP}{(Ground Truth P 의 숫자)}$$\n",
    "분모가 (TP+FN) 이다.\n",
    "\n",
    "TP 는 분류기가 Positive 로 예측했는데 맞은 sample 이다.\n",
    "FN 은 분류기가 Negative 로 예측했는데 틀린 sample 이다. => 즉 Ground Truth 가 Positive 다.\n",
    "위 2개를 더하면 Ground Truth 의 총 sample 숫자가 된다.\n",
    "\n",
    "결국 Recall 은 Ground Truth 의 총 positive sample 중에서 positive로 맞게 예측한 것의 비율 을 의미한다.\n",
    "\n",
    "영어 위키에는 “Recall is the probability of the complete retrival.” 라고 정의되어있다.\n",
    "전체 정보(TP+FN)중에서 검출된 것(TP)의 비율을 Recall 이라고 한다."
   ]
  },
  {
   "cell_type": "code",
   "execution_count": null,
   "metadata": {},
   "outputs": [],
   "source": []
  }
 ],
 "metadata": {
  "kernelspec": {
   "display_name": "Python 3",
   "language": "python",
   "name": "python3"
  },
  "language_info": {
   "codemirror_mode": {
    "name": "ipython",
    "version": 3
   },
   "file_extension": ".py",
   "mimetype": "text/x-python",
   "name": "python",
   "nbconvert_exporter": "python",
   "pygments_lexer": "ipython3",
   "version": "3.6.8"
  }
 },
 "nbformat": 4,
 "nbformat_minor": 2
}
