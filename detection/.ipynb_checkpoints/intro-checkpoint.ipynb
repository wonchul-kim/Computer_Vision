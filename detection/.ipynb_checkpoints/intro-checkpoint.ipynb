{
 "cells": [
  {
   "cell_type": "markdown",
   "metadata": {},
   "source": [
    "<img src='./imgs/stages.png'>"
   ]
  },
  {
   "cell_type": "markdown",
   "metadata": {},
   "source": [
    "**2-stage detetors** = region proposal + classification\n",
    "\n",
    "* region proposal: sliding window / selective search / edge boxes / ... <br>\n",
    "(this can be referred as localization problem)\n",
    "\n",
    "<img src='./imgs/2stage.png'>"
   ]
  },
  {
   "cell_type": "markdown",
   "metadata": {},
   "source": [
    "**1-stage detectors**: 딥러닝 layer를 통해서 localization(region proposal)과 classification이 동시에 이루어진다.\n",
    "<img src='./imgs/1stage.png'>"
   ]
  },
  {
   "cell_type": "markdown",
   "metadata": {},
   "source": [
    "[1] https://yeomko.tistory.com/20?category=851298\n",
    "[2] https://blog.lunit.io/2017/06/01/r-cnns-tutorial/\n",
    "[3] https://lilianweng.github.io/lil-log/2017/10/29/object-recognition-for-dummies-part-1.html\n",
    "\n",
    "\n",
    "\n"
   ]
  },
  {
   "cell_type": "markdown",
   "metadata": {},
   "source": []
  }
 ],
 "metadata": {
  "kernelspec": {
   "display_name": "Python 3",
   "language": "python",
   "name": "python3"
  },
  "language_info": {
   "codemirror_mode": {
    "name": "ipython",
    "version": 3
   },
   "file_extension": ".py",
   "mimetype": "text/x-python",
   "name": "python",
   "nbconvert_exporter": "python",
   "pygments_lexer": "ipython3",
   "version": "3.6.8"
  }
 },
 "nbformat": 4,
 "nbformat_minor": 2
}
