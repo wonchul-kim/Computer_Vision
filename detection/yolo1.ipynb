{
 "cells": [
  {
   "cell_type": "markdown",
   "metadata": {},
   "source": [
    "<img src='./imgs/yolo.png'>\n",
    "\n",
    "Yolo는 2015년에 나온 논문으로 Faster R-CNN에 비하여 부려 6배 가량 빠른 속도를 보입니다. 정확도는 비록 조금 낮다 하더라고 정말 비약적인 발전이라 할 수 있네요!"
   ]
  },
  {
   "cell_type": "markdown",
   "metadata": {},
   "source": [
    "### Unified Detection\n",
    "Yolo가 기존의 Object Dection과 가장 크게 구분되는 부분은 기존에 1) region proposal 2) classification 이렇게 두 단계로 나누어서 진행하던 방식에서 region proposal 단계를 제거하고 한번에 Object Detection을 수행하는 구조를 갖는다는 점입니다. 이것이 어떻게 가능할까요? \n",
    "\n",
    "<img src='./imgs/yolo1.png' width=500>\n",
    "\n",
    "먼저 입력 이미지를 S X S 그리드 영역으로 나눕니다. (실제 입력 이미지를 나누는 것이 아닙니다! 이 부분의 세부 내용은 아래에 더 자세히 다룹니다.) 이제 각 그리드 영역에서 먼저 물체가 있을 만한 영역에 해당하는 B개의 Bounding Box를 예측합니다. 이는 (x, y, w, h)로 나타내어 지는데 (x, y)는 bounding box의 중심점 좌표이며 w, h는 넓이와 높이입니다. 다음으로 해당 박스의 신뢰도를 나타내는 Confidence를 계산합니다. 이는 해당 그리드에 물체가 있을 확률 Pr(Object)와 예측한 박스와 Ground Truth 박스와의 겹치는 영역을 비율을 나타내는 IoU를 곱해서 계산합니다.\n",
    "\n",
    "$$ confidence = Pr(Object) * IoU^{truth}_{pred} $$\n",
    "\n",
    "그 다음으로 각각의 그리드마다 C개의 클래스에 대하여 해당 클래스일 확률을 계산하며 수식은 아래와 같습니다. 이 때, 특이한 점은 기존의 Object Detection에서는 항상 클래스 수 + 1 (배경)을 집어넣어 클래시피케이션을 하는데, yolo는 그렇지 않습니다.\n",
    "\n",
    "$$ Pr(class_i|Object) $$\n",
    "\n",
    "이렇게 yolo는 입력 이미지를 그리드로 나누고, 각 그리드 별로 바운딩 박스와 클래시피케이션을 동시에 수행합니다. "
   ]
  },
  {
   "cell_type": "markdown",
   "metadata": {},
   "source": [
    "### Network\n",
    "\n",
    "<img src='./imgs/yolo2.png'>\n",
    "\n",
    "논문에서 가져온 네트워크 그림입니다. 저자는 GoogleNet의 아키텍쳐에서 영감을 받았으며, Inception 블럭 대신 단순한 컨볼루션으로 네트웤을 구성했다고 합니다. 224x224 크기의 이미지 넷 클래시피케이션으로 pretrain 시켰습니다. 이후엔 입력 이미지로 448x448 크기 이미지를 입력으로 받습니다. 그리고 앞쪽 20개의 컨볼루션 레이어는 고정한 채, 뒷 단의 4개 레이어만 object detection 테스크에 맞게 학습시킵니다. 아래는 [2]에서 가져온 더 직관적인 그림입니다.\n",
    "\n",
    "\n",
    "<img src='./imgs/yolo3.png'>\n",
    "이제 네트워크의 출력인 7x7x30 피쳐맵에 대해서 알아보겠습니다. 여기 안에는 우리가 앞서서 말했던 그리드 별 바운딩 박스와 신뢰도 지수, 그리고 각 클래스 별 예측값들이 담겨져 있습니다.\n",
    "\n",
    "<img src='./imgs/yolo4.png' width=600>\n",
    "\n",
    "먼저 7x7은 그리드를 의미하며, 각각의 인덱스는 총 30차원의 백터 값을 가집니다. 위 그림을 보시면 7x7 그리드 가운데 하나의 인덱스에 붉은 색 박스가 쳐져있는 것을 볼 수 있습니다. 앞서 우리는 하나의 인덱스에서 B개의 Bounding Box를 추측한다고 했으며, 논문에서는 이를 2로 설정하였습니다. 30차원 벡터 가운데 앞의 10 개의 수는 바로 이 두 개의 박스를 의미합니다. 하나의 박스는 중심점 x와 y, 너비와 높이 w,h 그리고 신뢰도 지수 C 이렇게 (x, y, w, h, C) 다섯개 차원의 벡터로 나타낼 수 있으며, 두 개 박스는 10차원 벡터에 해당합니다.\n",
    "\n",
    "<img src='./imgs/yolo5.png' width=600>\n",
    "\n",
    "\n",
    "\n",
    "그 다음 오는 20차원 벡터는 해당 인덱스가 특정 클래스일 확률 값들이며, 여기서는 클래스가 20인 데이터 셋을 사용하였기 때문에 20 차원 벡터로 표현됩니다. 잠깐 기억을 더듬으면 우리는 박스의 신뢰도를 Pr(obj) * IoU로 구했고, 각 클래스별 확률 값을 구할 때는 Pr(classi | object) 로 구했습니다. 따라서 이 둘을 곱해주면 Pr(classi) * IoU 가 되고, 이는 곧 해당 박스가 특정 클래스일 확률 값이 됩니다. 이제 이 작업을 인덱스 i의 모든 B개 바운딩 박스에 적용하고, 이를 다시 SxS 인덱스에 적용하면 다음과 같은 결과를 얻습니다.\n",
    "\n",
    "<img src='./imgs/yolo6.png' width=600>\n",
    "\n",
    "이제 이렇게 구한 벡터들을 모두 모은 뒤 일렬로 나란히 세우면, 가장 위 차원부터 각 클래스별로 전체 바운딩 박스에서의 확률 값을 구할 수 있습니다. 물론 여기에는 동일한 물체에 중복되어 지정된 박스들도 있을 것입니다. 이를 방지하고자 NMS라는 작업을 거치게 되는데, 구체적인 작동방식은 [2]의 슬라이드 39 - 70을 참고하시면 됩니다. 이제 NMS를 거쳐서 살아남은 최종 결과를 이미지 위에 그려주는 작업만 남았습니다.\n",
    "\n",
    "<img src='./imgs/yolo7.png' width=600>\n",
    "\n",
    "NMS를 거치게 되면 벡터들의 대부분의 값들은 0이 됩니다. 하나의 바운딩 박스는 하나의 클래스에 속하므로, 벡터에서 최대 값을 계산하여 해당하는 클래스를 이미지 위에 박스와 함께 그려주면 됩니다."
   ]
  },
  {
   "cell_type": "markdown",
   "metadata": {},
   "source": [
    "### Loss Function\n",
    "지금까지 조금 복잡하지만 아주아주 신기한 (대체 어떻게 이런 생각을 해냈을까 그저 놀라운...) yolo의 네트워크 구조를 알아보았습니다. 그렇다면 이 네트워크를 어떻게 학습시킬 수 있을까요? 저자들은 아주 세심하게 디자인 된 로스 펑션을 제시합니다.\n",
    "\n",
    "<img src='./imgs/yolo8.png'>\n",
    "\n",
    "수식이 좀 긴데 전혀 쫄 필요가 없습니다. 이를 이해하기 위해선 먼저 1obj ij라고 생긴 기호를 이해해야 합니다. 이는 object 가 등장하는 i 인덱스의 j번째 바운딩 박스가 최종 프레딕션을 낸 것을 의미합니다. 앞서 우리는 NMS를 거쳐서 살아남은 일부 바운딩 박스만 최종 프레딕션에 포함시켰습니다. 따라서 Loss Function을 구할 때도 이 박스들을 찾아서 로스를 구하는 것입니다. 어렵지 않죠?\n",
    "\n",
    "\n",
    "\n",
    "<img src='./imgs/yolo9.png'>\n",
    "\n",
    "로스 펑션의 앞단입니다. 크게 어려울 것 없이 최종 프레딕션에 포함된 바운딩 박스를 찾아내어 x, y 좌표, w, h 값, C 값이 예측 값과 ground truth 값의 차를 구해 모두 더해줍니다. 이 때, x, y, C 값은 그냥 단순 차를 구했고 w, h는 비율 값이기 때문에 루트를 씌워 차이를 구해준 점이 다릅니다만 큰 차이는 없습니다. 앞에 붙은 람다는 물체가 있을 때의 오차와 없을 때의 오차 간의 비율을 맞춰주기 위한 것인데, 논문에서는 모두 5로 설정했습니다.\n",
    "\n",
    " \n",
    "<img src='./imgs/yolo10.png'>\n",
    "\n",
    "\n",
    "찾아낸 물체들이 얼마나 정확한지 못지 않게 중요한 것이 못 찾아낸 물체들에 대한 페널티를 매기는 것입니다.  1 noobj ij 라는 것은 물체가 없다고 판단된 i 인덱스의 j번째 바운딩 박스가 사실은 가장 ground truth와 IoU가 가장 높은 인덱스를 말합니다. 즉, 물체로 찾아냈어야 하는데 못찾아낸 인덱스입니다. 이에 대해선 찾아냈어야 하므로 C의 값의 차를 구해 로스에 더 해줍니다.\n",
    "\n",
    " \n",
    "\n",
    "마지막으로 모든 물체가 있다고 판단된 인덱스 i들에 대해서 모든 클래스들에 대해서 예측 값과 실제 값의 차를 구해 더해줍니다.\n",
    "\n",
    "\n",
    "\n",
    "Yolo는 기존 Object Detection 알고리즘보다 속도 측면에서 비약적인 발전을 이루었지만 동시에 한계점도 있습니다. 그리드 단위로 나누어 예측을 하기 때문에 새 떼와 같이 작은 물체가 여러개 모여있는 object들을 잘 잡아내지 못합니다. 이러한 문제점들은 분명 이후의 논문들에서 해결을 해보았겠죠?\n",
    "\n",
    "\n",
    "\n",
    "뒤에 이어지는 논문들도 기대가 되면서 이만 마치도록 하겠습니다.\n",
    "\n",
    "감사합니다.\n",
    "\n",
    " \n",
    "\n",
    "[1] Redmond et al, You Only Look Once: Unified, Real-Time Object Detection, 2015, CVPR\n",
    "\n",
    "[2] Deepsystems, yolo review, https://docs.google.com/presentation/d/1aeRvtKG21KHdD5lg6Hgyhx5rPq_ZOsGjG5rJ1HP7BbA/pub?start=false&loop=false&delayms=3000&slide=id.p"
   ]
  },
  {
   "cell_type": "markdown",
   "metadata": {},
   "source": [
    "궁금한 점.\n",
    "1. 왜 fixed size input에 FC후 reshape하는 쓰는 구조를 택한 걸까요? 가변 사이즈 입력을 받고 FC 대신 1x1 conv를 쓰는 방법도 있었을 텐데...\n",
    "만약 FC단에서 전체 컨텍스트를 고려하겠다는 의도였으면 same padding해서 Receptive filed가 충분히 커지도록, 큰 윈도우 사이즈로 컨벌루션하거나 3x3conv를 여러번 겹치거나 할 수 있었을 텐데 말이죠...\n",
    "2. '1obj ij' 이 기호, Predictor가 오브젝트가 있다고 예측한 BB가 아니라 GT기준 오브젝트가 있는 BB를 말하는 것 같습니다. '2.2. Training'에 보면 λnoobj가 False Positive 데이터들이 너무 많을 때,\n",
    "True Positive도 False로 판정할 정도로 너무 강한 영향력을 가지는 것에 패널티를 주기 위한 패러미터라고 설명되어 있습니다. 따라서 '1noobj ij'는 GT기준 오브젝트가 없는 BB들을 의미하는 거고 해당 패러미터에 곱해지는 건 False Positive 에러라고 보는게 맞습니다. 따라서 '1obj ij'도 GT기준 오브젝트가 있는 BB입니다.\n",
    "\n",
    "\n",
    "\n",
    "다른곳에도 질문을 드려봤는데 저자가 쓴 구현체 상에도 GT기준 오브젝트가 있는(IOU가 제일 높은) BB가 맞다고 합니다. 따라서 '1noobj ij'도 찾아야 하는데 못 찾아낸(True Negative)것들에 패널티를 주는게 아니라 없는데 있다고 한(False Positive)것들에 패널티를 주는게 맞습니다.\n",
    "True Negative들에 대해선 '1obj ij'에서 자연스럽게 패널티를 주게되구요"
   ]
  },
  {
   "cell_type": "code",
   "execution_count": null,
   "metadata": {},
   "outputs": [],
   "source": []
  }
 ],
 "metadata": {
  "kernelspec": {
   "display_name": "Python 3",
   "language": "python",
   "name": "python3"
  },
  "language_info": {
   "codemirror_mode": {
    "name": "ipython",
    "version": 3
   },
   "file_extension": ".py",
   "mimetype": "text/x-python",
   "name": "python",
   "nbconvert_exporter": "python",
   "pygments_lexer": "ipython3",
   "version": "3.6.8"
  }
 },
 "nbformat": 4,
 "nbformat_minor": 2
}
