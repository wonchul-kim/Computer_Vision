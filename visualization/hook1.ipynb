{
 "cells": [
  {
   "cell_type": "code",
   "execution_count": 1,
   "metadata": {},
   "outputs": [],
   "source": [
    "import torch\n",
    "import torch.nn as nn\n",
    "import torch.nn.functional as F"
   ]
  },
  {
   "cell_type": "code",
   "execution_count": 2,
   "metadata": {},
   "outputs": [],
   "source": [
    "class Network(nn.Module):\n",
    "    def __init__(self):\n",
    "        super(Network, self).__init__()\n",
    "        self.conv1 = nn.Conv2d(1, 10, 5)\n",
    "        self.pool1 = nn.MaxPool2d(2, 2)\n",
    "        self.conv2 = nn.Conv2d(10, 20, 5)\n",
    "        self.pool2 = nn.MaxPool2d(2, 2)\n",
    "        self.fc1 = nn.Linear(320, 50)\n",
    "        self.fc2 = nn.Linear(50, 10)\n",
    "    \n",
    "    def forward(self, x):\n",
    "        x = self.pool1(F.relu(self.conv1(x)))\n",
    "        x = self.pool2(F.relu(self.conv2(x)))\n",
    "        \n",
    "        x = x.view(x.size(0), -1)\n",
    "        x = F.relu(self.fc1(x))\n",
    "        x = F.relu(self.fc2(x))\n",
    "        \n",
    "        return x"
   ]
  },
  {
   "cell_type": "code",
   "execution_count": 3,
   "metadata": {},
   "outputs": [],
   "source": [
    "net = Network()"
   ]
  },
  {
   "cell_type": "code",
   "execution_count": 4,
   "metadata": {},
   "outputs": [
    {
     "data": {
      "text/plain": [
       "Network(\n",
       "  (conv1): Conv2d(1, 10, kernel_size=(5, 5), stride=(1, 1))\n",
       "  (pool1): MaxPool2d(kernel_size=2, stride=2, padding=0, dilation=1, ceil_mode=False)\n",
       "  (conv2): Conv2d(10, 20, kernel_size=(5, 5), stride=(1, 1))\n",
       "  (pool2): MaxPool2d(kernel_size=2, stride=2, padding=0, dilation=1, ceil_mode=False)\n",
       "  (fc1): Linear(in_features=320, out_features=50, bias=True)\n",
       "  (fc2): Linear(in_features=50, out_features=10, bias=True)\n",
       ")"
      ]
     },
     "execution_count": 4,
     "metadata": {},
     "output_type": "execute_result"
    }
   ],
   "source": [
    "net"
   ]
  },
  {
   "cell_type": "code",
   "execution_count": 5,
   "metadata": {},
   "outputs": [],
   "source": [
    "def printnorm(self, input, output):\n",
    "    print(\"Inside \" + self.__class__.__name__ + ' forward')\n",
    "    print('')\n",
    "    print(\"input:\", type(input), len(input))\n",
    "    print(\"input[0]: \", type(input[0]), input[0].size())\n",
    "    print('output: ', type(output))\n",
    "    print(\"\")\n",
    "    print('input size: ', input[0].size())\n",
    "    print(\"output size: \", output.data.size())\n",
    "    print('output norm: ', output.data.norm())"
   ]
  },
  {
   "cell_type": "code",
   "execution_count": 6,
   "metadata": {},
   "outputs": [
    {
     "data": {
      "text/plain": [
       "<torch.utils.hooks.RemovableHandle at 0x7fb357ec2e90>"
      ]
     },
     "execution_count": 6,
     "metadata": {},
     "output_type": "execute_result"
    }
   ],
   "source": [
    "net.conv1.register_forward_hook(printnorm)"
   ]
  },
  {
   "cell_type": "code",
   "execution_count": 7,
   "metadata": {},
   "outputs": [],
   "source": [
    "x = torch.randn(1, 1, 28, 28)"
   ]
  },
  {
   "cell_type": "code",
   "execution_count": 8,
   "metadata": {},
   "outputs": [
    {
     "name": "stdout",
     "output_type": "stream",
     "text": [
      "Inside Conv2d forward\n",
      "\n",
      "input: <class 'tuple'> 1\n",
      "input[0]:  <class 'torch.Tensor'> torch.Size([1, 1, 28, 28])\n",
      "output:  <class 'torch.Tensor'>\n",
      "\n",
      "input size:  torch.Size([1, 1, 28, 28])\n",
      "output size:  torch.Size([1, 10, 24, 24])\n",
      "output norm:  tensor(44.3613)\n"
     ]
    }
   ],
   "source": [
    "output = net(x)"
   ]
  },
  {
   "cell_type": "code",
   "execution_count": 9,
   "metadata": {},
   "outputs": [
    {
     "data": {
      "text/plain": [
       "<torch.utils.hooks.RemovableHandle at 0x7fb357e57e50>"
      ]
     },
     "execution_count": 9,
     "metadata": {},
     "output_type": "execute_result"
    }
   ],
   "source": [
    "net.conv2.register_forward_hook(printnorm)"
   ]
  },
  {
   "cell_type": "code",
   "execution_count": 10,
   "metadata": {},
   "outputs": [
    {
     "name": "stdout",
     "output_type": "stream",
     "text": [
      "Inside Conv2d forward\n",
      "\n",
      "input: <class 'tuple'> 1\n",
      "input[0]:  <class 'torch.Tensor'> torch.Size([1, 1, 28, 28])\n",
      "output:  <class 'torch.Tensor'>\n",
      "\n",
      "input size:  torch.Size([1, 1, 28, 28])\n",
      "output size:  torch.Size([1, 10, 24, 24])\n",
      "output norm:  tensor(44.3613)\n",
      "Inside Conv2d forward\n",
      "\n",
      "input: <class 'tuple'> 1\n",
      "input[0]:  <class 'torch.Tensor'> torch.Size([1, 10, 12, 12])\n",
      "output:  <class 'torch.Tensor'>\n",
      "\n",
      "input size:  torch.Size([1, 10, 12, 12])\n",
      "output size:  torch.Size([1, 20, 8, 8])\n",
      "output norm:  tensor(11.8931)\n"
     ]
    }
   ],
   "source": [
    "output = net(x)"
   ]
  },
  {
   "cell_type": "code",
   "execution_count": 11,
   "metadata": {},
   "outputs": [],
   "source": [
    "def printgradnorm(self, grad_input, grad_output):\n",
    "    print(\"Inside \" + self.__class__.__name__ + ' backward')\n",
    "    print('')\n",
    "    print(\"grad_input:\", type(grad_input), len(grad_input))\n",
    "    print(\"grad_input[0]: \", type(grad_input[0]), grad_input[0].size())\n",
    "    print(\"grad_input[1]: \", type(grad_input[1]), grad_input[1].size())\n",
    "    print(\"grad_input[2]: \", type(grad_input[2]), grad_input[2].size())\n",
    "\n",
    "    print('grad_output: ', type(grad_output), len(grad_output))\n",
    "    print('grad_output[0]: ', type(grad_output[0]))\n",
    "    print(\"\")\n",
    "    print('grad_input size: ', grad_input[0].size())\n",
    "    print(\"grad_output size: \", grad_output[0].data.size())\n",
    "    print('grad_output norm: ', grad_output[0].data.norm())"
   ]
  },
  {
   "cell_type": "code",
   "execution_count": 12,
   "metadata": {},
   "outputs": [
    {
     "data": {
      "text/plain": [
       "<torch.utils.hooks.RemovableHandle at 0x7fb357e62f90>"
      ]
     },
     "execution_count": 12,
     "metadata": {},
     "output_type": "execute_result"
    }
   ],
   "source": [
    "net.conv2.register_backward_hook(printgradnorm)"
   ]
  },
  {
   "cell_type": "code",
   "execution_count": 13,
   "metadata": {},
   "outputs": [
    {
     "name": "stdout",
     "output_type": "stream",
     "text": [
      "Inside Conv2d forward\n",
      "\n",
      "input: <class 'tuple'> 1\n",
      "input[0]:  <class 'torch.Tensor'> torch.Size([1, 1, 28, 28])\n",
      "output:  <class 'torch.Tensor'>\n",
      "\n",
      "input size:  torch.Size([1, 1, 28, 28])\n",
      "output size:  torch.Size([1, 10, 24, 24])\n",
      "output norm:  tensor(44.3613)\n",
      "Inside Conv2d forward\n",
      "\n",
      "input: <class 'tuple'> 1\n",
      "input[0]:  <class 'torch.Tensor'> torch.Size([1, 10, 12, 12])\n",
      "output:  <class 'torch.Tensor'>\n",
      "\n",
      "input size:  torch.Size([1, 10, 12, 12])\n",
      "output size:  torch.Size([1, 20, 8, 8])\n",
      "output norm:  tensor(11.8931)\n"
     ]
    }
   ],
   "source": [
    "output = net(x)"
   ]
  },
  {
   "cell_type": "code",
   "execution_count": 14,
   "metadata": {},
   "outputs": [],
   "source": [
    "target = torch.tensor([3], dtype=torch.long)\n",
    "loss_fn = nn.CrossEntropyLoss()"
   ]
  },
  {
   "cell_type": "code",
   "execution_count": 15,
   "metadata": {},
   "outputs": [],
   "source": [
    "err = loss_fn(output, target)"
   ]
  },
  {
   "cell_type": "code",
   "execution_count": 16,
   "metadata": {},
   "outputs": [
    {
     "name": "stdout",
     "output_type": "stream",
     "text": [
      "Inside Conv2d backward\n",
      "\n",
      "grad_input: <class 'tuple'> 3\n",
      "grad_input[0]:  <class 'torch.Tensor'> torch.Size([1, 10, 12, 12])\n",
      "grad_input[1]:  <class 'torch.Tensor'> torch.Size([20, 10, 5, 5])\n",
      "grad_input[2]:  <class 'torch.Tensor'> torch.Size([20])\n",
      "grad_output:  <class 'tuple'> 1\n",
      "grad_output[0]:  <class 'torch.Tensor'>\n",
      "\n",
      "grad_input size:  torch.Size([1, 10, 12, 12])\n",
      "grad_output size:  torch.Size([1, 20, 8, 8])\n",
      "grad_output norm:  tensor(0.1975)\n"
     ]
    }
   ],
   "source": [
    "err.backward()"
   ]
  },
  {
   "cell_type": "code",
   "execution_count": null,
   "metadata": {},
   "outputs": [],
   "source": []
  }
 ],
 "metadata": {
  "kernelspec": {
   "display_name": "Python 3",
   "language": "python",
   "name": "python3"
  },
  "language_info": {
   "codemirror_mode": {
    "name": "ipython",
    "version": 3
   },
   "file_extension": ".py",
   "mimetype": "text/x-python",
   "name": "python",
   "nbconvert_exporter": "python",
   "pygments_lexer": "ipython3",
   "version": "3.7.7"
  }
 },
 "nbformat": 4,
 "nbformat_minor": 4
}
